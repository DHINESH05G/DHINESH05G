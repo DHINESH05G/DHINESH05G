{
  "nbformat": 4,
  "nbformat_minor": 0,
  "metadata": {
    "colab": {
      "name": "character_segmentation.ipynb",
      "provenance": []
    },
    "kernelspec": {
      "name": "python3",
      "display_name": "Python 3"
    },
    "language_info": {
      "name": "python"
    }
  },
  "cells": [
    {
      "cell_type": "code",
      "execution_count": null,
      "metadata": {
        "id": "9rz5ljCy_aGX"
      },
      "outputs": [],
      "source": [
        "pip uninstall opencv-pythony"
      ]
    },
    {
      "cell_type": "code",
      "source": [
        "pip install opencv-python==3.4.9.31"
      ],
      "metadata": {
        "id": "N6xmbNnw_hiZ"
      },
      "execution_count": null,
      "outputs": []
    },
    {
      "cell_type": "code",
      "source": [
        ""
      ],
      "metadata": {
        "id": "2YyYzc_s_hlp"
      },
      "execution_count": 2,
      "outputs": []
    },
    {
      "cell_type": "code",
      "source": [
        "from google.colab import drive\n",
        "drive.mount('/content/gdrive')"
      ],
      "metadata": {
        "id": "zmcG4qEF_lNl"
      },
      "execution_count": null,
      "outputs": []
    },
    {
      "cell_type": "code",
      "source": [
        "pwd\n"
      ],
      "metadata": {
        "id": "7FPG1HK__huD"
      },
      "execution_count": null,
      "outputs": []
    },
    {
      "cell_type": "code",
      "source": [
        "%cd gdrive/MyDrive/"
      ],
      "metadata": {
        "id": "7t621Ctp_hxA"
      },
      "execution_count": null,
      "outputs": []
    },
    {
      "cell_type": "code",
      "source": [
        "%cd Ancient-Tamil-Script-Recognition-master"
      ],
      "metadata": {
        "id": "Dcm0qIBx_h0E"
      },
      "execution_count": null,
      "outputs": []
    },
    {
      "cell_type": "code",
      "source": [
        "import cv2\n",
        "import numpy as np\n",
        "import imutils"
      ],
      "metadata": {
        "id": "IR-c3sOc_h3A"
      },
      "execution_count": null,
      "outputs": []
    },
    {
      "cell_type": "code",
      "source": [
        "image = cv2.imread(\"ImagePreProcessingFinal2.jpg\")\n",
        "gray = cv2.cvtColor(image, cv2.COLOR_BGR2GRAY)\n",
        "gray = cv2.GaussianBlur(gray, (9, 9), 0)"
      ],
      "metadata": {
        "id": "VQLo3onj_h6D"
      },
      "execution_count": null,
      "outputs": []
    },
    {
      "cell_type": "code",
      "source": [
        "from google.colab.patches import cv2_imshow\n",
        "cv2_imshow(image)"
      ],
      "metadata": {
        "id": "qmZmgU0b_h9L"
      },
      "execution_count": null,
      "outputs": []
    },
    {
      "cell_type": "code",
      "source": [
        "ret,thresh1 = cv2.threshold(gray,127,255,cv2.THRESH_BINARY_INV)\n",
        "print(ret)\n",
        "print(thresh1)"
      ],
      "metadata": {
        "id": "NWDAGPuE_xPb"
      },
      "execution_count": null,
      "outputs": []
    },
    {
      "cell_type": "code",
      "source": [
        "dilate = cv2.dilate(thresh1, None, iterations=2)\n",
        "cv2_imshow(dilate)"
      ],
      "metadata": {
        "id": "1InuJgvV_xSc"
      },
      "execution_count": null,
      "outputs": []
    },
    {
      "cell_type": "code",
      "source": [
        "cnts = cv2.findContours(dilate.copy(), cv2.RETR_EXTERNAL,\n",
        "    cv2.CHAIN_APPROX_SIMPLE)\n",
        "cnts = cnts[0] if imutils.is_cv2() else cnts[1]\n",
        "print(cnts)\n"
      ],
      "metadata": {
        "id": "8aKjiOwE_xVQ"
      },
      "execution_count": null,
      "outputs": []
    },
    {
      "cell_type": "code",
      "source": [
        "sorted_ctrs = sorted(cnts, key=lambda ctr: cv2.boundingRect(ctr)[0] + cv2.boundingRect(ctr)[1] * image.shape[1] )"
      ],
      "metadata": {
        "id": "ra3qRvny_xYk"
      },
      "execution_count": null,
      "outputs": []
    },
    {
      "cell_type": "code",
      "source": [
        "orig = image.copy()\n",
        "i = 0\n",
        "for cnt in sorted_ctrs:\n",
        "    # Check the area of contour, if it is very small ignore it\n",
        "    if(cv2.contourArea(cnt) < 250):\n",
        "        continue\n",
        "\n",
        "    # Filtered countours are detected\n",
        "    x,y,w,h = cv2.boundingRect(cnt)\n",
        "    \n",
        "    # Taking ROI of the cotour\n",
        "    roi = image[y:y+h, x:x+w]\n",
        "    \n",
        "    # Mark them on the image if you want\n",
        "    cv2.rectangle(orig,(x,y),(x+w,y+h),(0,255,0),2)\n",
        "\n",
        "    # Save your contours or characters\n",
        "    cv2.imwrite(\"Images/roi\" + str(i) + \".png\", roi)\n",
        "\n",
        "    i = i + 1 "
      ],
      "metadata": {
        "id": "YxfRyNyY_xbW"
      },
      "execution_count": null,
      "outputs": []
    },
    {
      "cell_type": "code",
      "source": [
        "cv2.imwrite(\"box.jpg\",orig)"
      ],
      "metadata": {
        "id": "OZquEj5f_xee"
      },
      "execution_count": null,
      "outputs": []
    },
    {
      "cell_type": "code",
      "source": [
        "cv2_imshow(orig)"
      ],
      "metadata": {
        "id": "RNyBPZ8U_xhD"
      },
      "execution_count": null,
      "outputs": []
    },
    {
      "cell_type": "code",
      "source": [
        ""
      ],
      "metadata": {
        "id": "Pgi3stOD_xkH"
      },
      "execution_count": null,
      "outputs": []
    }
  ]
}
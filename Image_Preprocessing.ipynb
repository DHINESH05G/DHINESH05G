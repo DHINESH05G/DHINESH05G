{
  "nbformat": 4,
  "nbformat_minor": 0,
  "metadata": {
    "colab": {
      "name": " Image_Preprocessing.ipynb",
      "provenance": []
    },
    "kernelspec": {
      "name": "python3",
      "display_name": "Python 3"
    },
    "language_info": {
      "name": "python"
    }
  },
  "cells": [
    {
      "cell_type": "code",
      "source": [
        "from google.colab import drive\n",
        "drive.mount('/content/gdrive')"
      ],
      "metadata": {
        "id": "AiFhL1b2HJsj"
      },
      "execution_count": null,
      "outputs": []
    },
    {
      "cell_type": "code",
      "source": [
        "pwd\n"
      ],
      "metadata": {
        "id": "CCtP__Wr-uUb"
      },
      "execution_count": null,
      "outputs": []
    },
    {
      "cell_type": "code",
      "source": [
        "%cd gdrive/MyDrive/"
      ],
      "metadata": {
        "id": "WmppqNbh-uZp"
      },
      "execution_count": null,
      "outputs": []
    },
    {
      "cell_type": "code",
      "source": [
        "character_segmentation"
      ],
      "metadata": {
        "id": "mqCQdf41-uc5"
      },
      "execution_count": null,
      "outputs": []
    },
    {
      "cell_type": "code",
      "source": [
        "%cd Ancient-Tamil-Script-Recognition-master"
      ],
      "metadata": {
        "id": "xj9clJbb-uf0"
      },
      "execution_count": null,
      "outputs": []
    },
    {
      "cell_type": "code",
      "source": [
        "#Importing necessary libraries\n",
        "import cv2\n",
        "import numpy as np\n",
        "from matplotlib import pyplot as plt\n",
        "from scipy.ndimage import interpolation as inter"
      ],
      "metadata": {
        "id": "3PfSpjQj-ui_"
      },
      "execution_count": null,
      "outputs": []
    },
    {
      "cell_type": "code",
      "source": [
        "def correct_skew(image, delta=1, limit=5):\n",
        "    def determine_score(arr, angle):\n",
        "        data = inter.rotate(arr, angle, reshape=False, order=0)\n",
        "        histogram = np.sum(data, axis=1)\n",
        "        score = np.sum((histogram[1:] - histogram[:-1]) ** 2)\n",
        "        return histogram, score\n",
        "\n",
        "    gray = cv2.cvtColor(image, cv2.COLOR_BGR2GRAY)\n",
        "    thresh = cv2.threshold(gray, 0, 255, cv2.THRESH_BINARY_INV + cv2.THRESH_OTSU)[1] \n",
        "\n",
        "    scores = []\n",
        "    angles = np.arange(-limit, limit + delta, delta)\n",
        "    for angle in angles:\n",
        "        histogram, score = determine_score(thresh, angle)\n",
        "        scores.append(score)\n",
        "\n",
        "    best_angle = angles[scores.index(max(scores))]\n",
        "\n",
        "    (h, w) = image.shape[:2]\n",
        "    center = (w // 2, h // 2)\n",
        "    M = cv2.getRotationMatrix2D(center, best_angle, 1.0)\n",
        "    rotated = cv2.warpAffine(image, M, (w, h), flags=cv2.INTER_CUBIC, \\\n",
        "              borderMode=cv2.BORDER_REPLICATE)\n",
        "\n",
        "    return best_angle, rotated"
      ],
      "metadata": {
        "id": "3qLgcf_M-uli"
      },
      "execution_count": null,
      "outputs": []
    },
    {
      "cell_type": "code",
      "source": [
        "#reading the original image using OpenCV\n",
        "image = cv2.imread('TEST_PALM_1.jpg')"
      ],
      "metadata": {
        "id": "4N9tHlod-uoQ"
      },
      "execution_count": null,
      "outputs": []
    },
    {
      "cell_type": "code",
      "source": [
        "from google.colab import drive\n",
        "drive.mount('/content/drive')"
      ],
      "metadata": {
        "id": "Y_o_ELty-urJ"
      },
      "execution_count": null,
      "outputs": []
    },
    {
      "cell_type": "code",
      "source": [
        "#Converting the colored image to greyscale\n",
        "angle, rotated = correct_skew(image)\n",
        "print(angle)\n",
        "cv2.imwrite('rotated.jpg', rotated)\n",
        "gray = cv2.cvtColor(rotated,cv2.COLOR_BGR2GRAY)\n",
        "thresh = cv2.threshold(gray, 0, 255, cv2.THRESH_BINARY_INV + cv2.THRESH_OTSU)[1]\n"
      ],
      "metadata": {
        "id": "hIxYjsLG-uuJ"
      },
      "execution_count": null,
      "outputs": []
    },
    {
      "cell_type": "code",
      "source": [
        "# Remove horizontal lines\n",
        "horizontal_kernel = cv2.getStructuringElement(cv2.MORPH_RECT, (40,1))\n",
        "remove_horizontal = cv2.morphologyEx(thresh, cv2.MORPH_OPEN, horizontal_kernel, iterations=2)\n",
        "cnts = cv2.findContours(remove_horizontal, cv2.RETR_EXTERNAL, cv2.CHAIN_APPROX_SIMPLE)\n",
        "cnts = cnts[0] if len(cnts) == 2 else cnts[1]\n",
        "for c in cnts:\n",
        "    cv2.drawContours(rotated, [c], -1, (255,255,255), 5)"
      ],
      "metadata": {
        "id": "HPMPlEEa-uxB"
      },
      "execution_count": null,
      "outputs": []
    },
    {
      "cell_type": "code",
      "source": [
        "# Remove vertical lines\n",
        "vertical_kernel = cv2.getStructuringElement(cv2.MORPH_RECT, (1,40))\n",
        "remove_vertical = cv2.morphologyEx(thresh, cv2.MORPH_OPEN, vertical_kernel, iterations=2)\n",
        "cnts = cv2.findContours(remove_vertical, cv2.RETR_EXTERNAL, cv2.CHAIN_APPROX_SIMPLE)\n",
        "cnts = cnts[0] if len(cnts) == 2 else cnts[1]\n",
        "for c in cnts:\n",
        "    cv2.drawContours(rotated, [c], -1, (255,255,255), 5)"
      ],
      "metadata": {
        "id": "Z8abGos4-uzu"
      },
      "execution_count": null,
      "outputs": []
    },
    {
      "cell_type": "code",
      "source": [
        "gray = cv2.cvtColor(rotated,cv2.COLOR_BGR2GRAY)"
      ],
      "metadata": {
        "id": "UjLWd6j-_AyY"
      },
      "execution_count": null,
      "outputs": []
    },
    {
      "cell_type": "code",
      "source": [
        "#applying median filter for Salt and pepper/impulse noise\n",
        "filter1 = cv2.medianBlur(gray,5)\n",
        "cv2_imshow(filter1)"
      ],
      "metadata": {
        "id": "jUJtJJS2_A1N"
      },
      "execution_count": null,
      "outputs": []
    },
    {
      "cell_type": "code",
      "source": [
        "#applying gaussian blur to smoothen out the image edges\n",
        "filter2 = cv2.GaussianBlur(filter1,(7,7),0)\n",
        "cv2_imshow(filter2)"
      ],
      "metadata": {
        "id": "HAYcJWA3_A4l"
      },
      "execution_count": null,
      "outputs": []
    },
    {
      "cell_type": "code",
      "source": [
        "#applying non-localized means for final Denoising of the image\n",
        "dst = cv2.fastNlMeansDenoising(filter2,None,11,3,11)\n",
        "cv2_imshow(dst)"
      ],
      "metadata": {
        "id": "rWTNu8uv_A7b"
      },
      "execution_count": null,
      "outputs": []
    },
    {
      "cell_type": "code",
      "source": [
        "#converting the image to binarized form using adaptive thresholding\n",
        "th1 = cv2.adaptiveThreshold(dst,255,cv2.ADAPTIVE_THRESH_GAUSSIAN_C,cv2.THRESH_BINARY,19,2)"
      ],
      "metadata": {
        "id": "5Eg07Olh_A-C"
      },
      "execution_count": null,
      "outputs": []
    },
    {
      "cell_type": "code",
      "source": [
        "cv2.imwrite('ImagePreProcessingFinal2.jpg', th1)"
      ],
      "metadata": {
        "id": "JKGflYBF_BA2"
      },
      "execution_count": null,
      "outputs": []
    },
    {
      "cell_type": "code",
      "source": [
        "from google.colab.patches import cv2_imshow\n"
      ],
      "metadata": {
        "id": "Fyy83Ew8_BDz"
      },
      "execution_count": null,
      "outputs": []
    },
    {
      "cell_type": "code",
      "source": [
        "cv2_imshow(th1)"
      ],
      "metadata": {
        "id": "ustxHgXC_BGp"
      },
      "execution_count": null,
      "outputs": []
    },
    {
      "cell_type": "code",
      "source": [
        "cv2_imshow(image)"
      ],
      "metadata": {
        "id": "qKJzLnJh_BJl"
      },
      "execution_count": null,
      "outputs": []
    },
    {
      "cell_type": "code",
      "source": [
        ""
      ],
      "metadata": {
        "id": "sTw0CjwC_BMu"
      },
      "execution_count": null,
      "outputs": []
    },
    {
      "cell_type": "code",
      "source": [
        ""
      ],
      "metadata": {
        "id": "MSZfqqFz_BPy"
      },
      "execution_count": null,
      "outputs": []
    },
    {
      "cell_type": "code",
      "source": [
        ""
      ],
      "metadata": {
        "id": "9NWRAdB7_BSl"
      },
      "execution_count": null,
      "outputs": []
    }
  ]
}
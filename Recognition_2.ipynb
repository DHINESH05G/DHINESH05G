{
  "nbformat": 4,
  "nbformat_minor": 0,
  "metadata": {
    "colab": {
      "name": "Recognition_2.ipynb",
      "provenance": [],
      "collapsed_sections": []
    },
    "kernelspec": {
      "name": "python3",
      "display_name": "Python 3"
    },
    "language_info": {
      "name": "python"
    }
  },
  "cells": [
    {
      "cell_type": "code",
      "execution_count": null,
      "metadata": {
        "id": "qejm0DNbQWlo"
      },
      "outputs": [],
      "source": [
        "#importing necessary packages\n",
        "\n",
        "import os\n",
        "import cv2\n",
        "import tensorflow as tf"
      ]
    },
    {
      "cell_type": "code",
      "source": [
        "#Append all the categories we want to read\n",
        "CATEGORIES = []\n",
        "files = ['1 - Multipart','2 - Unknown']\n",
        "DATADIR = r'path_to\\Labelled Dataset - Fig 51'\n",
        "for directoryfile in os.listdir(DATADIR):\n",
        "    if(directoryfile in files):\n",
        "        continue\n",
        "    CATEGORIES.append(directoryfile)\n",
        "print(len(CATEGORIES))"
      ],
      "metadata": {
        "id": "MG8am78pRFGk"
      },
      "execution_count": null,
      "outputs": []
    },
    {
      "cell_type": "code",
      "source": [
        "#The function prepare(file) allows us to use an image of any size, since it automatically resize it to the image size we defined in the first program.\n",
        "def prepare(file):\n",
        "    IMG_SIZE = 50\n",
        "    img_array = cv2.imread(file, cv2.IMREAD_GRAYSCALE)\n",
        "    new_array = cv2.resize(img_array, (IMG_SIZE, IMG_SIZE))\n",
        "    return new_array.reshape(-1, IMG_SIZE, IMG_SIZE, 1)"
      ],
      "metadata": {
        "id": "iyO_VPKyRFKU"
      },
      "execution_count": null,
      "outputs": []
    },
    {
      "cell_type": "code",
      "source": [
        "model = tf.keras.models.load_model(\"CNN.model\") # Loding pre-trained data from local machine\n",
        "image = prepare(r\"path_to\\Labelled Dataset - Fig 51\\l\\11.JPG\") #Single image that you want to predict\n",
        "prediction = model.predict([image])\n",
        "prediction = list(prediction[0])\n",
        "#print(CATEGORIES[prediction.index(max(prediction))]) #print label of max probability\n",
        "c = CATEGORIES[prediction.index(max(prediction))]\n",
        "print(type(c))"
      ],
      "metadata": {
        "id": "Aj4tsTL3RFM5"
      },
      "execution_count": null,
      "outputs": []
    },
    {
      "cell_type": "code",
      "source": [
        ""
      ],
      "metadata": {
        "id": "d0S8BzwqRFQU"
      },
      "execution_count": null,
      "outputs": []
    }
  ]
}